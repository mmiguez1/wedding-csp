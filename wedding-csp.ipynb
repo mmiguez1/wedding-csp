{
 "cells": [
  {
   "cell_type": "markdown",
   "metadata": {},
   "source": [
    "# Wedding Constraint Satisfaction Problem Tutorial\n",
    "In this project, I use [MiniZinc](https://www.minizinc.org/) to solve a wedding constraint satisfaction problem to determine the seating arrangements of guests at the wedding reception. \n",
    "\n",
    "In this problem, there are nGuests attending the wedding that must be seated at nTables, where each table can seat at most nSeats guests. We are also given a list Groups of size nGroups which tells us which people must be seated together. We are additionally given a list Pref of length nGuests which tells us which people a guest would prefer to sit with. We use an arbitrary, integer utility measure PrefWeight which tells us how much happiness each guest derives from sitting next to their preferred guests. The bride's mom has also given us a set of guests who all must sit at different tables, otherwise they would get too drunk and cause problems.\n",
    "       \n",
    "### The Constraints\n",
    "We want to find a mapping of guests to tables such that:\n",
    "      \n",
    "* No table has more people at it than nSeats.      \n",
    "* Every table must have at least Floor(nSeats/2) people at it.      \n",
    "* Every person must be seated with their group.      \n",
    "* Everyone in the set Trouble must be seated at different tables.    \n",
    "\n",
    "## Measures of Utility\n",
    "I investigate two measures of utility: the Utilitarian Social Welfare Function (the sum of utilities of all the individuals) and the Egalitarian Social Welfare Function (the utility of the worst off guest). "
   ]
  },
  {
   "cell_type": "markdown",
   "metadata": {},
   "source": [
    "### Step 1: Include Necessary Global Constraints"
   ]
  },
  {
   "cell_type": "code",
   "execution_count": null,
   "metadata": {},
   "outputs": [],
   "source": [
    "%load_ext iminizinc"
   ]
  },
  {
   "cell_type": "code",
   "execution_count": null,
   "metadata": {},
   "outputs": [],
   "source": [
    "%%minizinc\n",
    "\n",
    "include \"globals.mzn\";\n",
    "include \"alldifferent.mzn\";"
   ]
  },
  {
   "cell_type": "markdown",
   "metadata": {},
   "source": [
    "### Step 2: Instantiate Variables"
   ]
  },
  {
   "cell_type": "markdown",
   "metadata": {},
   "source": [
    "Create \"Evaluation\" variable to determine utility function being used in solution (0 = Utilitarian, 1 = Egalitarian), \"PrefWeight\" variable as utility measure which tells us how much happiness each guest derives from sitting next to their preferred guests, and \"Trouble\" set of guests who all must sit at different tables."
   ]
  },
  {
   "cell_type": "markdown",
   "metadata": {},
   "source": [
    "Create \"Groups\" array to represent groups of wedding guests, \"Guests\" set to represent each wedding guest as a unique integer, \"Tables\" set to determine the number of tables available for guests to sit at, and \"Seats\" set to determine the number of seats available for guests to sit at."
   ]
  },
  {
   "cell_type": "markdown",
   "metadata": {},
   "source": [
    "Create \"AtTable\" array which determines the set of guests seated at each table, \"GuestAt\" array which determines the table that each group is seated at, and \"Pref\" array which determines the set of people each guest prefers to sit with."
   ]
  },
  {
   "cell_type": "code",
   "execution_count": null,
   "metadata": {},
   "outputs": [],
   "source": [
    "%%minizinc -m bind\n",
    "\n",
    "int: Evaluation; \n",
    "int: PrefWeight;\n",
    "set of int: Trouble;\n",
    "\n",
    "int: nGroups;\n",
    "set of int: GROUPS = 1..nGroups;\n",
    "array[GROUPS] of set of int: Groups;\n",
    "\n",
    "int: nGuests;\n",
    "set of int: GUESTS = 1..nGuests; \n",
    "\n",
    "int: nTables;  \n",
    "set of int: TABLES = 1..nTables; \n",
    "\n",
    "int: nSeats;\n",
    "set of int: SEATS = 1..nSeats;\n",
    "\n",
    "array[TABLES] of var set of GUESTS: AtTable;\n",
    "\n",
    "array[GUESTS] of var TABLES: GuestAt;\n",
    "\n",
    "array[GUESTS] of set of int: Pref;"
   ]
  },
  {
   "cell_type": "markdown",
   "metadata": {},
   "source": [
    "### Step 3: Define the Constraints"
   ]
  },
  {
   "cell_type": "markdown",
   "metadata": {},
   "source": [
    "First, to ensure that each guest index position in the GuestAt array corresponds to the correct table index position in the AtTable, I use the **int_set_channel** predicate such that (GuestAt[i] = j) ↔ (i in AtTable[j]). "
   ]
  },
  {
   "cell_type": "code",
   "execution_count": null,
   "metadata": {},
   "outputs": [],
   "source": [
    "%%minizinc\n",
    "\n",
    "constraint int_set_channel(GuestAt, AtTable);"
   ]
  },
  {
   "cell_type": "markdown",
   "metadata": {},
   "source": [
    "Next, so that each guest is uniquely assigned to only one table, I use the **all_disjoint** constraint."
   ]
  },
  {
   "cell_type": "code",
   "execution_count": null,
   "metadata": {},
   "outputs": [],
   "source": [
    "%%minizinc\n",
    "\n",
    "constraint all_disjoint(AtTable);"
   ]
  },
  {
   "cell_type": "markdown",
   "metadata": {},
   "source": [
    "**Constraint 1: No table has more people at it than nSeats.**"
   ]
  },
  {
   "cell_type": "code",
   "execution_count": null,
   "metadata": {},
   "outputs": [],
   "source": [
    "%%minizinc\n",
    "\n",
    "constraint forall (k in TABLES) (card(AtTable[k]) <= nSeats);"
   ]
  },
  {
   "cell_type": "markdown",
   "metadata": {},
   "source": [
    "**Constraint 2: Every table must have at least Floor(nSeats/2) people at it.**"
   ]
  },
  {
   "cell_type": "code",
   "execution_count": null,
   "metadata": {},
   "outputs": [],
   "source": [
    "%%minizinc\n",
    "\n",
    "constraint forall (k in TABLES) (card(AtTable[k]) >= floor(nSeats/2));"
   ]
  },
  {
   "cell_type": "markdown",
   "metadata": {},
   "source": [
    "**Constraint 3: Every person must be seated with their group.**"
   ]
  },
  {
   "cell_type": "code",
   "execution_count": null,
   "metadata": {},
   "outputs": [],
   "source": [
    "%%minizinc\n",
    "\n",
    "constraint forall(g in GROUPS)(all_equal([GuestAt[p] | p in Groups[g]]));"
   ]
  },
  {
   "cell_type": "markdown",
   "metadata": {},
   "source": [
    "**Constraint 4: Everyone in the set Trouble must be seated at different tables.**"
   ]
  },
  {
   "cell_type": "code",
   "execution_count": null,
   "metadata": {},
   "outputs": [],
   "source": [
    "%%minizinc\n",
    "\n",
    "constraint alldifferent(t in Trouble)(AtTable[t]);"
   ]
  },
  {
   "cell_type": "markdown",
   "metadata": {},
   "source": [
    "### Step 4: Symmetry Breaking"
   ]
  },
  {
   "cell_type": "markdown",
   "metadata": {},
   "source": [
    "In order to prevent symmetry variants of my solution, I use a modelling technique called *symmetry breaking.* This involves adding constraints to the model that rule out all symmetric variants of a (partial) assignment to the variables except one.\n",
    "      \n",
    "To do this, I impose a constraint that forces the model to order table seating by group order in the solution. This will remove the possibility of any symmetry variants and ensure that there is only one solution to this problem."
   ]
  },
  {
   "cell_type": "code",
   "execution_count": null,
   "metadata": {},
   "outputs": [],
   "source": [
    "%%minizinc\n",
    "\n",
    "constraint forall (g in GROUPS) (Groups[g] subset AtTable[g]);"
   ]
  },
  {
   "cell_type": "markdown",
   "metadata": {},
   "source": [
    "### Step 5: Solve "
   ]
  },
  {
   "cell_type": "markdown",
   "metadata": {},
   "source": [
    "Here, I investigate the utiliarian and egalitarian social welfare functions to maximize the happiness of all the guests at the wedding. The **Utilitarian Social Welfare Function** measures the sum of utilities of all the guests. The **Egalitarian Social Welfare Function** measures the utlity of the worst off guest. \n",
    "     \n",
    "The solution seeks to maximize the utility measured by one of these functions."
   ]
  },
  {
   "cell_type": "code",
   "execution_count": null,
   "metadata": {},
   "outputs": [],
   "source": [
    "%%minizinc\n",
    "\n",
    "var int: util = sum (i in GUESTS) (card(Pref[i] intersect AtTable[GuestAt[i]]) * PrefWeight);\n",
    "\n",
    "var int: egal = min (i in GUESTS) (card(Pref[i] intersect AtTable[GuestAt[i]]) * PrefWeight);\n",
    "\n",
    "solve maximize (if Evaluation == 0 then util else egal endif);"
   ]
  },
  {
   "cell_type": "markdown",
   "metadata": {},
   "source": [
    "### Output"
   ]
  },
  {
   "cell_type": "code",
   "execution_count": null,
   "metadata": {},
   "outputs": [],
   "source": [
    "%%minizinc\n",
    "\n",
    "output [\"Table: Guests: \" ++ \"\\n\"]; \n",
    "output [\"   \" ++ show(i) ++ \" : \" ++ show(AtTable[i]) ++ \"\\n\" | i in TABLES ];\n",
    "output [\"Utilitarian Happiness: \" ++ show(util) ++ \"\\nEgalitarian Happiness: \" ++ show(egal) ];"
   ]
  },
  {
   "cell_type": "markdown",
   "metadata": {},
   "source": [
    "### Step 6: Run Solution"
   ]
  },
  {
   "cell_type": "markdown",
   "metadata": {},
   "source": [
    "First, I create a .dzn file for the problem data which specifies the values of each variable. The example .dzn file below shows problem data that will be scored using a utilitarian welfare function."
   ]
  },
  {
   "cell_type": "raw",
   "metadata": {},
   "source": [
    "%Evaluation (0 = Utilitarian, 1 = Egalitarian)\n",
    "Evaluation = 0;\n",
    "\n",
    "%Number of Tables\n",
    "nTables = 4;\n",
    "\n",
    "%Number of Seats per Table:\n",
    "nSeats = 5;\n",
    "\n",
    "%Number of Guests:\n",
    "nGuests = 20;\n",
    "\n",
    "nGroups = 3;\n",
    "%Groups that Must be seated together\n",
    "Groups = [\n",
    "\t\t  {11,4},\n",
    "          {15,16},\n",
    "          {8,9}\n",
    "];\n",
    "\n",
    "%Pref Weight\n",
    "PrefWeight = 3;\n",
    "%Preference Graph: Row i is the person that Guest i would like to sit with.\n",
    "%There must be as many rows as nGuests.\n",
    "Pref = [\n",
    "\t\t{2,3,4},\n",
    "        {1,6,9},\n",
    "        {1,4},\n",
    "        {3,9},\n",
    "        {6},\n",
    "        {5},\n",
    "        {1,8,9},\n",
    "        {7,9},\n",
    "        {4},\n",
    "        {11,12},\n",
    "        {19,1},\n",
    "        {13,4},\n",
    "        {11,9},\n",
    "        {1,14},\n",
    "        {3,9},\n",
    "        {16},\n",
    "        {18},\n",
    "        {10,17,9},\n",
    "        {7,9},\n",
    "        {4}\n",
    "];\n",
    "        \n",
    "%Troublemakers\n",
    "Trouble = {2, 3};"
   ]
  },
  {
   "cell_type": "markdown",
   "metadata": {},
   "source": [
    "Next, I run my .dzn file and .mzn files and return an output file of the solution. The output of the solution for the above problem data is shown below. "
   ]
  },
  {
   "cell_type": "raw",
   "metadata": {},
   "source": [
    "Table: Guests: \n",
    "   1 : {1,3,4,11,20}\n",
    "   2 : {5,6,14,15,16}\n",
    "   3 : {2,7,8,9,19}\n",
    "   4 : {10,12,13,17,18}\n",
    "Utilitarian Happiness: 69\n",
    "Egalitarian Happiness: 0\n",
    "----------"
   ]
  },
  {
   "cell_type": "markdown",
   "metadata": {},
   "source": [
    "From the example output file above, we can see there is one solution for the problem that has a score of 69 for Utilitarian happiness and 0 for Egalitarian happiness. "
   ]
  }
 ],
 "metadata": {
  "kernelspec": {
   "display_name": "Python 3",
   "language": "python",
   "name": "python3"
  },
  "language_info": {
   "codemirror_mode": {
    "name": "ipython",
    "version": 3
   },
   "file_extension": ".py",
   "mimetype": "text/x-python",
   "name": "python",
   "nbconvert_exporter": "python",
   "pygments_lexer": "ipython3",
   "version": "3.7.3"
  },
  "vscode": {
   "interpreter": {
    "hash": "93eeaff37bca10fa7ca35828039ef91f3f053352c4df84bdd6be87ec6e3ad28a"
   }
  }
 },
 "nbformat": 4,
 "nbformat_minor": 2
}
